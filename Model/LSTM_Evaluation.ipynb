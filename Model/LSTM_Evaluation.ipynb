{
 "cells": [
  {
   "cell_type": "code",
   "execution_count": 1,
   "id": "e8300e9f",
   "metadata": {},
   "outputs": [],
   "source": [
    "import math\n",
    "import matplotlib.pyplot as plt\n",
    "import keras\n",
    "import pandas as pd\n",
    "import numpy as np\n",
    "from keras.models import Sequential\n",
    "from keras.layers import Dense\n",
    "from keras.layers import LSTM\n",
    "from keras.layers import Dropout\n",
    "from keras.layers import *\n",
    "from sklearn.preprocessing import MinMaxScaler\n",
    "from sklearn.metrics import mean_squared_error\n",
    "from sklearn.metrics import mean_absolute_error\n",
    "from sklearn.model_selection import train_test_split\n",
    "from keras.callbacks import EarlyStopping\n"
   ]
  },
  {
   "cell_type": "code",
   "execution_count": 2,
   "id": "22be483c",
   "metadata": {},
   "outputs": [
    {
     "data": {
      "text/html": [
       "<div>\n",
       "<style scoped>\n",
       "    .dataframe tbody tr th:only-of-type {\n",
       "        vertical-align: middle;\n",
       "    }\n",
       "\n",
       "    .dataframe tbody tr th {\n",
       "        vertical-align: top;\n",
       "    }\n",
       "\n",
       "    .dataframe thead th {\n",
       "        text-align: right;\n",
       "    }\n",
       "</style>\n",
       "<table border=\"1\" class=\"dataframe\">\n",
       "  <thead>\n",
       "    <tr style=\"text-align: right;\">\n",
       "      <th></th>\n",
       "      <th>Country</th>\n",
       "      <th>Code</th>\n",
       "      <th>1990</th>\n",
       "      <th>1991</th>\n",
       "      <th>1992</th>\n",
       "      <th>1993</th>\n",
       "      <th>1994</th>\n",
       "      <th>1995</th>\n",
       "      <th>1996</th>\n",
       "      <th>1997</th>\n",
       "      <th>...</th>\n",
       "      <th>2008</th>\n",
       "      <th>2009</th>\n",
       "      <th>2010</th>\n",
       "      <th>2011</th>\n",
       "      <th>2012</th>\n",
       "      <th>2013</th>\n",
       "      <th>2014</th>\n",
       "      <th>2015</th>\n",
       "      <th>2016</th>\n",
       "      <th>2017</th>\n",
       "    </tr>\n",
       "  </thead>\n",
       "  <tbody>\n",
       "    <tr>\n",
       "      <th>0</th>\n",
       "      <td>Albania</td>\n",
       "      <td>ALB</td>\n",
       "      <td>11.40</td>\n",
       "      <td>9.04</td>\n",
       "      <td>6.99</td>\n",
       "      <td>6.93</td>\n",
       "      <td>7.77</td>\n",
       "      <td>7.53</td>\n",
       "      <td>7.25</td>\n",
       "      <td>6.54</td>\n",
       "      <td>...</td>\n",
       "      <td>8.54</td>\n",
       "      <td>8.60</td>\n",
       "      <td>8.88</td>\n",
       "      <td>9.33</td>\n",
       "      <td>8.94</td>\n",
       "      <td>9.05</td>\n",
       "      <td>9.54</td>\n",
       "      <td>9.48</td>\n",
       "      <td>9.33</td>\n",
       "      <td>9.90</td>\n",
       "    </tr>\n",
       "    <tr>\n",
       "      <th>1</th>\n",
       "      <td>Algeria</td>\n",
       "      <td>DZA</td>\n",
       "      <td>96.00</td>\n",
       "      <td>94.87</td>\n",
       "      <td>94.50</td>\n",
       "      <td>102.03</td>\n",
       "      <td>99.78</td>\n",
       "      <td>103.99</td>\n",
       "      <td>105.30</td>\n",
       "      <td>109.39</td>\n",
       "      <td>...</td>\n",
       "      <td>156.40</td>\n",
       "      <td>166.21</td>\n",
       "      <td>167.32</td>\n",
       "      <td>179.68</td>\n",
       "      <td>189.89</td>\n",
       "      <td>193.59</td>\n",
       "      <td>203.79</td>\n",
       "      <td>211.66</td>\n",
       "      <td>209.41</td>\n",
       "      <td>211.50</td>\n",
       "    </tr>\n",
       "    <tr>\n",
       "      <th>2</th>\n",
       "      <td>Angola</td>\n",
       "      <td>AGO</td>\n",
       "      <td>150.61</td>\n",
       "      <td>151.28</td>\n",
       "      <td>151.61</td>\n",
       "      <td>152.39</td>\n",
       "      <td>152.54</td>\n",
       "      <td>156.90</td>\n",
       "      <td>161.39</td>\n",
       "      <td>156.01</td>\n",
       "      <td>...</td>\n",
       "      <td>173.99</td>\n",
       "      <td>180.66</td>\n",
       "      <td>186.83</td>\n",
       "      <td>220.92</td>\n",
       "      <td>185.95</td>\n",
       "      <td>203.34</td>\n",
       "      <td>185.10</td>\n",
       "      <td>207.66</td>\n",
       "      <td>182.19</td>\n",
       "      <td>176.85</td>\n",
       "    </tr>\n",
       "    <tr>\n",
       "      <th>3</th>\n",
       "      <td>Antigua and Barbuda</td>\n",
       "      <td>ATG</td>\n",
       "      <td>0.34</td>\n",
       "      <td>0.35</td>\n",
       "      <td>0.43</td>\n",
       "      <td>0.41</td>\n",
       "      <td>0.42</td>\n",
       "      <td>0.44</td>\n",
       "      <td>0.47</td>\n",
       "      <td>0.50</td>\n",
       "      <td>...</td>\n",
       "      <td>1.06</td>\n",
       "      <td>2.02</td>\n",
       "      <td>1.13</td>\n",
       "      <td>1.07</td>\n",
       "      <td>1.29</td>\n",
       "      <td>1.06</td>\n",
       "      <td>1.08</td>\n",
       "      <td>1.10</td>\n",
       "      <td>1.14</td>\n",
       "      <td>1.17</td>\n",
       "    </tr>\n",
       "    <tr>\n",
       "      <th>4</th>\n",
       "      <td>Argentina</td>\n",
       "      <td>ARG</td>\n",
       "      <td>323.84</td>\n",
       "      <td>328.83</td>\n",
       "      <td>333.22</td>\n",
       "      <td>335.73</td>\n",
       "      <td>340.81</td>\n",
       "      <td>341.39</td>\n",
       "      <td>344.46</td>\n",
       "      <td>346.24</td>\n",
       "      <td>...</td>\n",
       "      <td>468.33</td>\n",
       "      <td>452.69</td>\n",
       "      <td>440.34</td>\n",
       "      <td>450.10</td>\n",
       "      <td>464.88</td>\n",
       "      <td>462.89</td>\n",
       "      <td>456.74</td>\n",
       "      <td>460.21</td>\n",
       "      <td>469.73</td>\n",
       "      <td>469.62</td>\n",
       "    </tr>\n",
       "    <tr>\n",
       "      <th>...</th>\n",
       "      <td>...</td>\n",
       "      <td>...</td>\n",
       "      <td>...</td>\n",
       "      <td>...</td>\n",
       "      <td>...</td>\n",
       "      <td>...</td>\n",
       "      <td>...</td>\n",
       "      <td>...</td>\n",
       "      <td>...</td>\n",
       "      <td>...</td>\n",
       "      <td>...</td>\n",
       "      <td>...</td>\n",
       "      <td>...</td>\n",
       "      <td>...</td>\n",
       "      <td>...</td>\n",
       "      <td>...</td>\n",
       "      <td>...</td>\n",
       "      <td>...</td>\n",
       "      <td>...</td>\n",
       "      <td>...</td>\n",
       "      <td>...</td>\n",
       "    </tr>\n",
       "    <tr>\n",
       "      <th>162</th>\n",
       "      <td>Vanuatu</td>\n",
       "      <td>VUT</td>\n",
       "      <td>0.47</td>\n",
       "      <td>0.48</td>\n",
       "      <td>0.50</td>\n",
       "      <td>0.53</td>\n",
       "      <td>0.54</td>\n",
       "      <td>0.54</td>\n",
       "      <td>0.57</td>\n",
       "      <td>0.57</td>\n",
       "      <td>...</td>\n",
       "      <td>0.70</td>\n",
       "      <td>0.70</td>\n",
       "      <td>0.71</td>\n",
       "      <td>0.75</td>\n",
       "      <td>0.75</td>\n",
       "      <td>0.75</td>\n",
       "      <td>0.81</td>\n",
       "      <td>0.81</td>\n",
       "      <td>0.84</td>\n",
       "      <td>0.84</td>\n",
       "    </tr>\n",
       "    <tr>\n",
       "      <th>163</th>\n",
       "      <td>Venezuela</td>\n",
       "      <td>VEN</td>\n",
       "      <td>303.14</td>\n",
       "      <td>304.92</td>\n",
       "      <td>308.93</td>\n",
       "      <td>315.26</td>\n",
       "      <td>318.02</td>\n",
       "      <td>326.54</td>\n",
       "      <td>331.00</td>\n",
       "      <td>337.59</td>\n",
       "      <td>...</td>\n",
       "      <td>265.49</td>\n",
       "      <td>261.47</td>\n",
       "      <td>291.82</td>\n",
       "      <td>323.30</td>\n",
       "      <td>343.49</td>\n",
       "      <td>373.61</td>\n",
       "      <td>359.46</td>\n",
       "      <td>352.14</td>\n",
       "      <td>352.08</td>\n",
       "      <td>338.14</td>\n",
       "    </tr>\n",
       "    <tr>\n",
       "      <th>164</th>\n",
       "      <td>Vietnam</td>\n",
       "      <td>VNM</td>\n",
       "      <td>25.63</td>\n",
       "      <td>28.49</td>\n",
       "      <td>31.00</td>\n",
       "      <td>37.69</td>\n",
       "      <td>43.31</td>\n",
       "      <td>49.46</td>\n",
       "      <td>56.03</td>\n",
       "      <td>63.80</td>\n",
       "      <td>...</td>\n",
       "      <td>209.45</td>\n",
       "      <td>231.71</td>\n",
       "      <td>251.16</td>\n",
       "      <td>235.76</td>\n",
       "      <td>237.24</td>\n",
       "      <td>249.25</td>\n",
       "      <td>263.12</td>\n",
       "      <td>306.26</td>\n",
       "      <td>320.67</td>\n",
       "      <td>319.54</td>\n",
       "    </tr>\n",
       "    <tr>\n",
       "      <th>165</th>\n",
       "      <td>Zambia</td>\n",
       "      <td>ZMB</td>\n",
       "      <td>485.43</td>\n",
       "      <td>484.96</td>\n",
       "      <td>484.28</td>\n",
       "      <td>483.00</td>\n",
       "      <td>481.44</td>\n",
       "      <td>478.95</td>\n",
       "      <td>444.46</td>\n",
       "      <td>405.54</td>\n",
       "      <td>...</td>\n",
       "      <td>471.05</td>\n",
       "      <td>412.65</td>\n",
       "      <td>460.49</td>\n",
       "      <td>432.46</td>\n",
       "      <td>455.21</td>\n",
       "      <td>468.32</td>\n",
       "      <td>440.83</td>\n",
       "      <td>473.30</td>\n",
       "      <td>495.17</td>\n",
       "      <td>495.99</td>\n",
       "    </tr>\n",
       "    <tr>\n",
       "      <th>166</th>\n",
       "      <td>Zimbabwe</td>\n",
       "      <td>ZWE</td>\n",
       "      <td>71.10</td>\n",
       "      <td>71.40</td>\n",
       "      <td>72.21</td>\n",
       "      <td>68.67</td>\n",
       "      <td>68.41</td>\n",
       "      <td>68.26</td>\n",
       "      <td>69.62</td>\n",
       "      <td>68.79</td>\n",
       "      <td>...</td>\n",
       "      <td>62.83</td>\n",
       "      <td>63.73</td>\n",
       "      <td>66.75</td>\n",
       "      <td>67.43</td>\n",
       "      <td>67.68</td>\n",
       "      <td>67.64</td>\n",
       "      <td>66.25</td>\n",
       "      <td>67.59</td>\n",
       "      <td>66.16</td>\n",
       "      <td>66.53</td>\n",
       "    </tr>\n",
       "  </tbody>\n",
       "</table>\n",
       "<p>167 rows × 30 columns</p>\n",
       "</div>"
      ],
      "text/plain": [
       "                 Country Code    1990    1991    1992    1993    1994    1995  \\\n",
       "0                Albania  ALB   11.40    9.04    6.99    6.93    7.77    7.53   \n",
       "1                Algeria  DZA   96.00   94.87   94.50  102.03   99.78  103.99   \n",
       "2                 Angola  AGO  150.61  151.28  151.61  152.39  152.54  156.90   \n",
       "3    Antigua and Barbuda  ATG    0.34    0.35    0.43    0.41    0.42    0.44   \n",
       "4              Argentina  ARG  323.84  328.83  333.22  335.73  340.81  341.39   \n",
       "..                   ...  ...     ...     ...     ...     ...     ...     ...   \n",
       "162              Vanuatu  VUT    0.47    0.48    0.50    0.53    0.54    0.54   \n",
       "163            Venezuela  VEN  303.14  304.92  308.93  315.26  318.02  326.54   \n",
       "164              Vietnam  VNM   25.63   28.49   31.00   37.69   43.31   49.46   \n",
       "165               Zambia  ZMB  485.43  484.96  484.28  483.00  481.44  478.95   \n",
       "166             Zimbabwe  ZWE   71.10   71.40   72.21   68.67   68.41   68.26   \n",
       "\n",
       "       1996    1997  ...    2008    2009    2010    2011    2012    2013  \\\n",
       "0      7.25    6.54  ...    8.54    8.60    8.88    9.33    8.94    9.05   \n",
       "1    105.30  109.39  ...  156.40  166.21  167.32  179.68  189.89  193.59   \n",
       "2    161.39  156.01  ...  173.99  180.66  186.83  220.92  185.95  203.34   \n",
       "3      0.47    0.50  ...    1.06    2.02    1.13    1.07    1.29    1.06   \n",
       "4    344.46  346.24  ...  468.33  452.69  440.34  450.10  464.88  462.89   \n",
       "..      ...     ...  ...     ...     ...     ...     ...     ...     ...   \n",
       "162    0.57    0.57  ...    0.70    0.70    0.71    0.75    0.75    0.75   \n",
       "163  331.00  337.59  ...  265.49  261.47  291.82  323.30  343.49  373.61   \n",
       "164   56.03   63.80  ...  209.45  231.71  251.16  235.76  237.24  249.25   \n",
       "165  444.46  405.54  ...  471.05  412.65  460.49  432.46  455.21  468.32   \n",
       "166   69.62   68.79  ...   62.83   63.73   66.75   67.43   67.68   67.64   \n",
       "\n",
       "       2014    2015    2016    2017  \n",
       "0      9.54    9.48    9.33    9.90  \n",
       "1    203.79  211.66  209.41  211.50  \n",
       "2    185.10  207.66  182.19  176.85  \n",
       "3      1.08    1.10    1.14    1.17  \n",
       "4    456.74  460.21  469.73  469.62  \n",
       "..      ...     ...     ...     ...  \n",
       "162    0.81    0.81    0.84    0.84  \n",
       "163  359.46  352.14  352.08  338.14  \n",
       "164  263.12  306.26  320.67  319.54  \n",
       "165  440.83  473.30  495.17  495.99  \n",
       "166   66.25   67.59   66.16   66.53  \n",
       "\n",
       "[167 rows x 30 columns]"
      ]
     },
     "execution_count": 2,
     "metadata": {},
     "output_type": "execute_result"
    }
   ],
   "source": [
    "path = 'https://raw.githubusercontent.com/FabioHodo/EIB2_ClimateRisk/main/cleaned%20data/data_imputed/imputed_knn/'\n",
    "df = pd.read_csv(path +'Emissions_GHG_(fromCAIT).csv',index_col='Unnamed: 0' )\n",
    "df"
   ]
  },
  {
   "cell_type": "code",
   "execution_count": 3,
   "id": "96216331",
   "metadata": {},
   "outputs": [],
   "source": [
    "def makeMonthly(country, scale = 20):\n",
    "    '''\n",
    "    Turn the yearly data into monthly using Brownian bridge algorithm\n",
    "    Parameter:\n",
    "        country: a string for the country name\n",
    "        scale: an integer for the data scaling\n",
    "    Return:\n",
    "        the scaled monthly data\n",
    "    '''\n",
    "    #AnnualVal = Albania.loc[\"1990\":\"2017\"]\n",
    "    AnnualVal = country*scale\n",
    "    n = (len(AnnualVal)-1)*12\n",
    "    monthly = np.zeros(n+1)\n",
    "    monthlyVal = np.zeros(n)\n",
    "    for i in range(1, len(AnnualVal)+1):\n",
    "        monthly[(i-1)*12] = AnnualVal[i-1]\n",
    "\n",
    "    for i in range(1, len(AnnualVal)): #1-4\n",
    "        for j in range ((i-1)*12+1, (i)*12): #0 to  47\n",
    "            monthly[j] = monthly[j-1] + (monthly[(i)*12] - monthly[j-1])*(1/((i*12)-(j-1)))\n",
    "            + (((i*12-j)*(1)/(i*12-(j-1)))**(1/2))*np.random.randn()\n",
    "            monthlyVal[j-1] = monthly[j] -monthly[j-1]\n",
    "    return monthly/scale"
   ]
  },
  {
   "cell_type": "code",
   "execution_count": 5,
   "id": "0654e20b",
   "metadata": {},
   "outputs": [],
   "source": [
    "country='Argentina'\n",
    "data = df[df['Country']==country]\n",
    "data = data.loc[:,\"1990\":\"2017\"].T\n",
    "monthly = makeMonthly(np.array(data), 10)\n",
    "monthly = np.reshape(monthly, (-1, 1))"
   ]
  },
  {
   "cell_type": "code",
   "execution_count": 6,
   "id": "2fdfde97",
   "metadata": {},
   "outputs": [],
   "source": [
    "# Feature Scaling\n",
    "scaler = MinMaxScaler(feature_range=(0, 1))\n",
    "data = scaler.fit_transform(monthly)"
   ]
  },
  {
   "cell_type": "code",
   "execution_count": 19,
   "id": "39e48f7a",
   "metadata": {},
   "outputs": [
    {
     "data": {
      "text/plain": [
       "(227, 98)"
      ]
     },
     "execution_count": 19,
     "metadata": {},
     "output_type": "execute_result"
    }
   ],
   "source": [
    "#split train and test dataset\n",
    "train_size = int(len(data)*0.7)\n",
    "test_size = len(data)-train_size\n",
    "train_data, test_data = data[0:train_size,:],data[train_size:len(data),:]\n",
    "(train_size,test_size)"
   ]
  },
  {
   "cell_type": "code",
   "execution_count": 8,
   "id": "4098d439",
   "metadata": {},
   "outputs": [],
   "source": [
    "def create_dataset(dataset,timestep = 10):\n",
    "    data_x,data_y = [],[]\n",
    "    for i in range(len(dataset)-timestep-1):\n",
    "        a = dataset[i:i+timestep]\n",
    "        data_x.append(a)\n",
    "        data_y.append(dataset[i+timestep])\n",
    "    return np.array(data_x),np.array(data_y)\n"
   ]
  },
  {
   "cell_type": "code",
   "execution_count": 9,
   "id": "3703323d",
   "metadata": {},
   "outputs": [],
   "source": [
    "x_train, y_train = create_dataset(train_data,timestep = 10)\n",
    "x_test, y_test = create_dataset(test_data,timestep = 10)"
   ]
  },
  {
   "cell_type": "code",
   "execution_count": 10,
   "id": "226da72f",
   "metadata": {},
   "outputs": [],
   "source": [
    "x_train = x_train.reshape(x_train.shape[0],x_train.shape[1],1)\n",
    "x_test = x_test.reshape(x_test.shape[0],x_test.shape[1],1)"
   ]
  },
  {
   "cell_type": "code",
   "execution_count": 51,
   "id": "bef4cf28",
   "metadata": {},
   "outputs": [
    {
     "name": "stdout",
     "output_type": "stream",
     "text": [
      "Epoch 1/50\n",
      "11/11 [==============================] - 2s 88ms/step - loss: 0.1993 - val_loss: 0.4644\n",
      "Epoch 2/50\n",
      "11/11 [==============================] - 0s 28ms/step - loss: 0.0711 - val_loss: 8.8165e-04\n",
      "Epoch 3/50\n",
      "11/11 [==============================] - 0s 24ms/step - loss: 0.0296 - val_loss: 0.0365\n",
      "Epoch 4/50\n",
      "11/11 [==============================] - 0s 24ms/step - loss: 0.0142 - val_loss: 0.0046\n",
      "Epoch 5/50\n",
      "11/11 [==============================] - 0s 23ms/step - loss: 0.0063 - val_loss: 0.0012\n",
      "Epoch 6/50\n",
      "11/11 [==============================] - 0s 23ms/step - loss: 0.0044 - val_loss: 0.0015\n",
      "Epoch 7/50\n",
      "11/11 [==============================] - 0s 25ms/step - loss: 0.0056 - val_loss: 0.0048\n",
      "Epoch 8/50\n",
      "11/11 [==============================] - 0s 24ms/step - loss: 0.0052 - val_loss: 0.0013\n",
      "Epoch 9/50\n",
      "11/11 [==============================] - 0s 23ms/step - loss: 0.0038 - val_loss: 9.4556e-04\n",
      "Epoch 10/50\n",
      "11/11 [==============================] - 0s 23ms/step - loss: 0.0045 - val_loss: 8.9928e-04\n",
      "Epoch 11/50\n",
      "11/11 [==============================] - 0s 23ms/step - loss: 0.0041 - val_loss: 0.0017\n",
      "Epoch 12/50\n",
      "11/11 [==============================] - 0s 23ms/step - loss: 0.0059 - val_loss: 0.0012\n"
     ]
    },
    {
     "data": {
      "text/plain": [
       "<keras.callbacks.History at 0x307996700>"
      ]
     },
     "execution_count": 51,
     "metadata": {},
     "output_type": "execute_result"
    }
   ],
   "source": [
    "model = Sequential()\n",
    "\n",
    "model.add(LSTM(units = 50, return_sequences = True, input_shape = (x_train.shape[1], 1)))\n",
    "model.add(Dropout(0.2))\n",
    "\n",
    "model.add(LSTM(units = 50, return_sequences = True))\n",
    "model.add(Dropout(0.2))\n",
    "\n",
    "model.add(LSTM(units = 50))\n",
    "model.add(Dropout(0.2))\n",
    "\n",
    "# model.add(LSTM(units = 50))\n",
    "# model.add(Dropout(0.2))\n",
    "# Adding the output layer\n",
    "model.add(Dense(1, activation = 'relu'))\n",
    "\n",
    "# Compiling the RNN\n",
    "model.compile(optimizer = 'adam', loss = 'mean_squared_error')\n",
    "# Fitting the RNN to the Training set\n",
    "model.fit(x_train, y_train, validation_data = (x_test, y_test) ,epochs = 50, batch_size = 20,verbose =1,\n",
    "         callbacks=[EarlyStopping(monitor='val_loss', patience=10)])"
   ]
  },
  {
   "cell_type": "code",
   "execution_count": 52,
   "id": "4aa61e94",
   "metadata": {},
   "outputs": [
    {
     "name": "stdout",
     "output_type": "stream",
     "text": [
      "Model: \"sequential_7\"\n",
      "_________________________________________________________________\n",
      "Layer (type)                 Output Shape              Param #   \n",
      "=================================================================\n",
      "lstm_21 (LSTM)               (None, 10, 50)            10400     \n",
      "_________________________________________________________________\n",
      "dropout_21 (Dropout)         (None, 10, 50)            0         \n",
      "_________________________________________________________________\n",
      "lstm_22 (LSTM)               (None, 10, 50)            20200     \n",
      "_________________________________________________________________\n",
      "dropout_22 (Dropout)         (None, 10, 50)            0         \n",
      "_________________________________________________________________\n",
      "lstm_23 (LSTM)               (None, 50)                20200     \n",
      "_________________________________________________________________\n",
      "dropout_23 (Dropout)         (None, 50)                0         \n",
      "_________________________________________________________________\n",
      "dense_7 (Dense)              (None, 1)                 51        \n",
      "=================================================================\n",
      "Total params: 50,851\n",
      "Trainable params: 50,851\n",
      "Non-trainable params: 0\n",
      "_________________________________________________________________\n"
     ]
    }
   ],
   "source": [
    "model.summary()"
   ]
  },
  {
   "cell_type": "code",
   "execution_count": 53,
   "id": "6dacb410",
   "metadata": {},
   "outputs": [],
   "source": [
    "train_predict = model.predict(x_train)\n",
    "\n",
    "test_predict = model.predict(x_test)\n",
    "\n"
   ]
  },
  {
   "cell_type": "code",
   "execution_count": 54,
   "id": "3b91a972",
   "metadata": {},
   "outputs": [],
   "source": [
    "train_predict = scaler.inverse_transform(train_predict)\n",
    "test_predict = scaler.inverse_transform(test_predict)"
   ]
  },
  {
   "cell_type": "code",
   "execution_count": 55,
   "id": "79952170",
   "metadata": {},
   "outputs": [
    {
     "data": {
      "text/plain": [
       "384.1197465077147"
      ]
     },
     "execution_count": 55,
     "metadata": {},
     "output_type": "execute_result"
    }
   ],
   "source": [
    "math.sqrt(mean_squared_error(y_train,train_predict))"
   ]
  },
  {
   "cell_type": "code",
   "execution_count": 56,
   "id": "3569c18a",
   "metadata": {},
   "outputs": [
    {
     "data": {
      "text/plain": [
       "461.2162606427689"
      ]
     },
     "execution_count": 56,
     "metadata": {},
     "output_type": "execute_result"
    }
   ],
   "source": [
    "math.sqrt(mean_squared_error(y_test,test_predict))"
   ]
  },
  {
   "cell_type": "code",
   "execution_count": 57,
   "id": "ed4b01fc",
   "metadata": {},
   "outputs": [
    {
     "data": {
      "image/png": "[encoded data removed]",
      "text/plain": [
       "<Figure size 640x480 with 1 Axes>"
      ]
     },
     "metadata": {},
     "output_type": "display_data"
    }
   ],
   "source": [
    "### Plotting \n",
    "# shift train predictions for plotting\n",
    "look_back=10\n",
    "trainPredictPlot = np.empty_like(data)\n",
    "trainPredictPlot[:, :] = np.nan\n",
    "trainPredictPlot[look_back:len(train_predict)+look_back, :] = train_predict\n",
    "# shift test predictions for plotting\n",
    "testPredictPlot = np.empty_like(data)\n",
    "testPredictPlot[:, :] = np.nan\n",
    "testPredictPlot[len(train_predict)+(look_back*2)+1:len(data)-1, :] = test_predict\n",
    "# plot baseline and predictions\n",
    "plt.plot(scaler.inverse_transform(data))\n",
    "plt.plot(trainPredictPlot)\n",
    "plt.plot(testPredictPlot)\n",
    "plt.show()"
   ]
  },
  {
   "cell_type": "code",
   "execution_count": 67,
   "id": "2a1582f1",
   "metadata": {},
   "outputs": [
    {
     "data": {
      "image/png": "[encoded data removed]",
      "text/plain": [
       "<Figure size 640x480 with 1 Axes>"
      ]
     },
     "metadata": {},
     "output_type": "display_data"
    }
   ],
   "source": [
    "x = np.arange(0,216)\n",
    "plt.scatter(x,train_predict)\n",
    "y = np.arange(216,303)\n",
    "plt.scatter(y,test_predict)\n",
    "plt.show()"
   ]
  },
  {
   "cell_type": "code",
   "execution_count": 68,
   "id": "c46545c0",
   "metadata": {},
   "outputs": [],
   "source": [
    "def predict(num_prediction, model):\n",
    "    prediction_list = test_data[-look_back:]\n",
    "    \n",
    "    for i in range(num_prediction):\n",
    "        x = prediction_list[-look_back:]\n",
    "        #print(x)\n",
    "        x = x.reshape((1, look_back, 1))\n",
    "        out = model.predict(x)[0][0]\n",
    "        prediction_list = np.append(prediction_list, out)\n",
    "    prediction_list = prediction_list[look_back:]\n",
    "        \n",
    "    return prediction_list"
   ]
  },
  {
   "cell_type": "code",
   "execution_count": 69,
   "id": "f93c52f9",
   "metadata": {},
   "outputs": [],
   "source": [
    "num_prediction = 13*12\n",
    "x = predict(num_prediction, model)\n",
    "prediction = scaler.inverse_transform(x.reshape(-1,1))"
   ]
  },
  {
   "cell_type": "code",
   "execution_count": 70,
   "id": "72a332a0",
   "metadata": {},
   "outputs": [
    {
     "data": {
      "image/png": "[encoded data removed]",
      "text/plain": [
       "<Figure size 640x480 with 1 Axes>"
      ]
     },
     "metadata": {},
     "output_type": "display_data"
    }
   ],
   "source": [
    "df3=monthly.tolist()\n",
    "df3.extend(prediction)\n",
    "plt.plot(df3[1:])\n",
    "plt.show()"
   ]
  },
  {
   "cell_type": "code",
   "execution_count": 71,
   "id": "89eb2ad7",
   "metadata": {},
   "outputs": [
    {
     "data": {
      "text/plain": [
       "array([[493.18310906],\n",
       "       [508.54559698],\n",
       "       [519.75081691],\n",
       "       [527.08854508],\n",
       "       [531.55925905],\n",
       "       [534.15919285],\n",
       "       [535.62956982],\n",
       "       [536.44788939],\n",
       "       [536.89921474],\n",
       "       [537.1468515 ],\n",
       "       [537.28240041],\n",
       "       [537.35643578],\n",
       "       [537.39687089]])"
      ]
     },
     "execution_count": 71,
     "metadata": {},
     "output_type": "execute_result"
    }
   ],
   "source": [
    "annual_prediction = prediction[11:num_prediction:12]\n",
    "annual_prediction"
   ]
  },
  {
   "cell_type": "code",
   "execution_count": 72,
   "id": "34c993ad",
   "metadata": {},
   "outputs": [
    {
     "data": {
      "image/png": "[encoded data removed]",
      "text/plain": [
       "<Figure size 640x480 with 1 Axes>"
      ]
     },
     "metadata": {},
     "output_type": "display_data"
    }
   ],
   "source": [
    "country='Argentina'\n",
    "data = df[df['Country']==country]\n",
    "data = data.loc[:,\"1990\":\"2017\"]\n",
    "years = ['2018', '2019', '2020', '2021', '2022', '2023', '2024', '2025', '2026', '2027', '2028', '2029', '2030']\n",
    "for i in range(len(years)):\n",
    "    data[years[i]] = annual_prediction[i]\n",
    "\n",
    "plt.scatter(data.columns,data)\n",
    "plt.show()"
   ]
  },
  {
   "cell_type": "code",
   "execution_count": null,
   "id": "fb419261",
   "metadata": {},
   "outputs": [],
   "source": [
    "def rf_cv(n_estimators, min_samples_split, max_features, max_depth):\n",
    "    val = cross_val_score(\n",
    "        RandomForestClassifier(n_estimators=int(n_estimators),\n",
    "            min_samples_split=int(min_samples_split),\n",
    "            max_features=min(max_features, 0.999), # float\n",
    "            max_depth=int(max_depth),\n",
    "            random_state=2\n",
    "        ),\n",
    "        x, y, scoring='roc_auc', cv=5\n",
    "    ).mean()\n",
    "    return val"
   ]
  },
  {
   "cell_type": "markdown",
   "id": "8fd386b5",
   "metadata": {},
   "source": [
    "From Keras RNN Tutorial: \"RNNs are tricky. Choice of batch size is important, choice of loss and optimizer is critical, etc. Some configurations won't converge.\""
   ]
  },
  {
   "cell_type": "code",
   "execution_count": null,
   "id": "cb6f3771",
   "metadata": {},
   "outputs": [],
   "source": []
  }
 ],
 "metadata": {
  "kernelspec": {
   "display_name": "Python 3",
   "language": "python",
   "name": "python3"
  },
  "language_info": {
   "codemirror_mode": {
    "name": "ipython",
    "version": 3
   },
   "file_extension": ".py",
   "mimetype": "text/x-python",
   "name": "python",
   "nbconvert_exporter": "python",
   "pygments_lexer": "ipython3",
   "version": "3.9.7"
  }
 },
 "nbformat": 4,
 "nbformat_minor": 5
}
