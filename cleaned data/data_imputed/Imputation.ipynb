{
 "cells": [
  {
   "cell_type": "code",
   "execution_count": 108,
   "metadata": {},
   "outputs": [],
   "source": [
    "# Notes: For Emissions: \"\" and -- means missing\n",
    "# For Energy_Use, \"\" is missing, For Energy_consumption -- means missing\n",
    "# For Fossil_fuel_Energy both 0 and \"\" mean missing, can actually omit this and use renewable_energy instead (too much missing data)\n",
    "#for GDP and Population -- means missing\n",
    "# For Renewable_energy_cons \"\" means missing\n",
    "# for Rents \"\" missing\n",
    "import pandas as pd\n",
    "import os\n",
    "import numpy as np\n",
    "\n",
    "import missingno as mno\n",
    "from sklearn.impute import KNNImputer\n",
    "from sklearn import linear_model\n",
    "\n",
    "from sklearn.preprocessing import PolynomialFeatures"
   ]
  },
  {
   "cell_type": "code",
   "execution_count": 109,
   "metadata": {},
   "outputs": [],
   "source": [
    "# Load all data and keep only those whose ISO matches all the datasets\n",
    "countries = pd.read_excel(\"./countries.xlsx\")\n",
    "\n",
    "def getData(file):\n",
    "    data = pd.read_csv(file, skiprows=1)\n",
    "    \n",
    "    data[\"Country\"]=data[\"Country\"].apply(lambda x: x.strip()) #strip trailing spaces\n",
    "    data = data[data[\"Code\"].isin(countries[\"Code\"])] # check to see if it is in list\n",
    "    data.reset_index(drop=True,inplace=True)\n",
    "    \n",
    "    return data"
   ]
  },
  {
   "cell_type": "code",
   "execution_count": 110,
   "metadata": {
    "scrolled": true
   },
   "outputs": [
    {
     "name": "stdout",
     "output_type": "stream",
     "text": [
      "Emissions_Coal.csv\n",
      "Emissions_GHG_(fromCAIT).csv\n",
      "Emissions_Natural_Gas.csv\n",
      "Emissions_Petroleum_other.csv\n",
      "Emissions_Total.csv\n",
      "Energy_Consumption_per_Capita.csv\n",
      "Energy_consumption_per_GDP.csv\n",
      "Energy_use(kg-of-oil-equivalent-per-capita).csv\n",
      "Fossil_fuel_energy_consumption(%_of_total).csv\n",
      "GDP.csv\n",
      "Population.csv\n",
      "Renewable_energy_consumption(%_of_total_final_energy_consumption).csv\n",
      "Rents_Coal.csv\n",
      "Rents_NaturalGas.csv\n",
      "Rents_Oil.csv\n"
     ]
    }
   ],
   "source": [
    "#Process all files and add them to a list of dataframes for easy manipulation\n",
    "\n",
    "df_list = []\n",
    "df_names = []\n",
    "for filename in os.listdir(\"data_processed/\"):\n",
    "    #print(filename)\n",
    "    path = \"data_processed/\" + filename\n",
    "    df_list.append(getData(path))\n",
    "    df_names.append(filename)\n",
    "\n",
    "for i in range(15):\n",
    "    #print(df_list[i].shape)\n",
    "    print(df_names[i])\n",
    "\n",
    "#mno.matrix(df_list[7], figsize = (10, 3))\n",
    "#mno.matrix(df_list[8], figsize = (10, 3))"
   ]
  },
  {
   "cell_type": "markdown",
   "metadata": {},
   "source": [
    "### KNN imputation"
   ]
  },
  {
   "cell_type": "code",
   "execution_count": 79,
   "metadata": {},
   "outputs": [],
   "source": [
    "def KNNimpute(dataframe):\n",
    "    temp = dataframe\n",
    "    temp = temp.drop(columns=['Code','Country'])\n",
    "    temp = temp.transpose()\n",
    "\n",
    "    temp = temp.replace('', np.NaN)\n",
    "    temp = temp.replace('--', np.NaN)\n",
    "     \n",
    "    #impute\n",
    "    imputer = KNNImputer(n_neighbors = 3)\n",
    "    temp = pd.DataFrame(imputer.fit_transform(temp))\n",
    "    \n",
    "    #transpose back and add columns names and index back\n",
    "    temp = temp.transpose()\n",
    "    temp.insert(0,'c1',dataframe.Country)\n",
    "    temp.insert(1,'c2',dataframe.Code)\n",
    "    temp.columns = dataframe.columns\n",
    "    return temp"
   ]
  },
  {
   "cell_type": "code",
   "execution_count": null,
   "metadata": {},
   "outputs": [],
   "source": [
    "KNNimpute(df_list[0].head(15))\n"
   ]
  },
  {
   "cell_type": "markdown",
   "metadata": {},
   "source": [
    "### Inter/Extra-polation method with added noise"
   ]
  },
  {
   "cell_type": "code",
   "execution_count": null,
   "metadata": {},
   "outputs": [],
   "source": [
    "# https://www.kaggle.com/shashankasubrahmanya/missing-data-imputation-using-regression"
   ]
  },
  {
   "cell_type": "code",
   "execution_count": 111,
   "metadata": {},
   "outputs": [],
   "source": [
    "def clean_df(temp):\n",
    "    temp = temp.drop(columns=['Country','Code'])\n",
    "    temp = temp.transpose()\n",
    "    temp = temp.replace('', np.NaN)\n",
    "    temp = temp.replace('--', np.NaN)\n",
    "    return temp\n",
    "\n",
    "#randomly impute missing values by sampling from original \n",
    "np.random.seed(42)\n",
    "def random_imputation(df, df_imp, feature):\n",
    "    number_missing = df[feature].isnull().sum()\n",
    "    observed_values = df.loc[df[feature].notnull(), feature]\n",
    "    df_imp.loc[df[feature].isnull(), feature] = np.random.choice(observed_values, number_missing, replace = True)\n",
    "    \n",
    "    return df_imp[feature]"
   ]
  },
  {
   "cell_type": "code",
   "execution_count": null,
   "metadata": {},
   "outputs": [],
   "source": [
    "StochasticRegression(df_list[0]).head(15)"
   ]
  },
  {
   "cell_type": "code",
   "execution_count": null,
   "metadata": {},
   "outputs": [],
   "source": [
    "def StochasticRegression(dataframe):    \n",
    "    df = clean_df(dataframe.copy())\n",
    "    df.columns = df.columns.map(str)\n",
    "    missing_columns = df.columns\n",
    "\n",
    "    for feature in missing_columns:\n",
    "        df[feature + '_imp'] = df[feature]\n",
    "        df = random_imputation(df, feature)\n",
    "\n",
    "    random_data = pd.DataFrame(columns = [\"Ran\" + name for name in missing_columns])\n",
    "\n",
    "    for feature in missing_columns:\n",
    "\n",
    "        random_data[\"Ran\" + feature] = df[feature + '_imp']\n",
    "        parameters = list(set(df.columns) - set(missing_columns) - {feature + '_imp'})\n",
    "        \n",
    "        model = linear_model.LinearRegression()\n",
    "        model.fit(X = df[parameters], y = df[feature + '_imp'])\n",
    "        if feature == '5':\n",
    "            print(random_data[\"Ran\" + feature])\n",
    "        #Standard Error of the regression estimates is equal to std() of the errors of each estimates\n",
    "        predict = model.predict(df[parameters])\n",
    "        std_error = (predict[df[feature].notnull()] - df.loc[df[feature].notnull(), feature + '_imp'].astype(float)).std()\n",
    "\n",
    "\n",
    "        random_predict = np.random.normal(size = df[feature].shape[0], \n",
    "                                          loc = predict, \n",
    "                                          scale = std_error)\n",
    "        random_data.loc[(df[feature].isnull()) & (random_predict > 0), \"Ran\" + feature] = random_predict[(df[feature].isnull()) & \n",
    "                                                                                (random_predict > 0)]\n",
    "    \n",
    "    random_data = random_data.transpose()\n",
    "    random_data.reset_index(drop=True, inplace=True)\n",
    "    random_data.insert(0,'c1',dataframe.Country)\n",
    "    random_data.insert(1,'c2',dataframe.Code)\n",
    "    random_data.columns = dataframe.columns\n",
    "    return random_data"
   ]
  },
  {
   "cell_type": "code",
   "execution_count": 141,
   "metadata": {},
   "outputs": [],
   "source": [
    "def LinReg_imp(dataframe):\n",
    "    df = clean_df(dataframe.copy())\n",
    "    \n",
    "    for feature in df.columns:\n",
    "        if df[feature].isnull().sum() == 0: # break if nothing to impute\n",
    "            continue\n",
    "        #train on available data, then predict missing data\n",
    "        model = linear_model.LinearRegression()\n",
    "        X = df[feature][df[feature].notnull()].index\n",
    "        X = np.array(X).reshape(-1,1)\n",
    "        y = df[feature][df[feature].notnull()]\n",
    "        model.fit(X, y)\n",
    "\n",
    "\n",
    "        y_missing = df[feature][df[feature].isnull()].index\n",
    "        y_missing = np.array(y_missing).reshape(-1,1)\n",
    "        y_predicted = model.predict(y_missing)\n",
    "\n",
    "        #Standard Error of the regression estimates is equal to std() of the errors of each estimates\n",
    "        df.loc[df[feature].isnull(),feature] = y_predicted\n",
    "\n",
    "    temp = df.transpose()\n",
    "    temp.reset_index(drop=True, inplace=True)\n",
    "    temp.insert(0,'c1',dataframe.Country)\n",
    "    temp.insert(1,'c2',dataframe.Code)\n",
    "    temp.columns = dataframe.columns\n",
    "\n",
    "    return temp\n"
   ]
  },
  {
   "cell_type": "code",
   "execution_count": 144,
   "metadata": {},
   "outputs": [],
   "source": [
    "# USing n-th degree polynomial regression\n",
    "def PolyReg_imp(dataframe, poly_degrees):\n",
    "    df = clean_df(dataframe.copy())\n",
    "\n",
    "    for feature in df.columns:\n",
    "        if df[feature].isnull().sum() == 0: # break if nothing to impute\n",
    "            continue\n",
    "        #train on available data, then predict missing data\n",
    "        X = df[feature][df[feature].notnull()].index\n",
    "        X = np.array(X).reshape(-1,1)\n",
    "        y = df[feature][df[feature].notnull()]\n",
    "\n",
    "        poly = PolynomialFeatures(degree = poly_degrees)\n",
    "        X_poly = poly.fit_transform(X)\n",
    "\n",
    "        poly.fit(X_poly, y)\n",
    "        lin2 = linear_model.LinearRegression()\n",
    "        lin2.fit(X_poly, y)\n",
    "\n",
    "\n",
    "        y_missing = df[feature][df[feature].isnull()].index\n",
    "        y_missing = np.array(y_missing).reshape(-1,1)\n",
    "\n",
    "        X_polytest = poly.fit_transform(y_missing)\n",
    "        y_predicted = lin2.predict(X_polytest)\n",
    "        #Standard Error of the regression estimates is equal to std() of the errors of each estimates\n",
    "        df.loc[df[feature].isnull(),feature] = y_predicted \n",
    "    \n",
    "    temp = df.transpose()\n",
    "    temp.reset_index(drop=True, inplace=True)\n",
    "    temp.insert(0,'c1',dataframe.Country)\n",
    "    temp.insert(1,'c2',dataframe.Code)\n",
    "    temp.columns = dataframe.columns\n",
    "\n",
    "    return temp\n"
   ]
  },
  {
   "cell_type": "code",
   "execution_count": null,
   "metadata": {},
   "outputs": [],
   "source": [
    "xx = df.isnull().sum(axis = 0)\n",
    "xx = xx[xx>0]\n",
    "xx"
   ]
  },
  {
   "cell_type": "code",
   "execution_count": null,
   "metadata": {},
   "outputs": [],
   "source": []
  }
 ],
 "metadata": {
  "kernelspec": {
   "display_name": "Python 3",
   "language": "python",
   "name": "python3"
  },
  "language_info": {
   "codemirror_mode": {
    "name": "ipython",
    "version": 3
   },
   "file_extension": ".py",
   "mimetype": "text/x-python",
   "name": "python",
   "nbconvert_exporter": "python",
   "pygments_lexer": "ipython3",
   "version": "3.8.5"
  }
 },
 "nbformat": 4,
 "nbformat_minor": 4
}
