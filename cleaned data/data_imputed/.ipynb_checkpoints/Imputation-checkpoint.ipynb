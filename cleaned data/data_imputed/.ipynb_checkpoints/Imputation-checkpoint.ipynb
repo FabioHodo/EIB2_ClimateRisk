{
 "cells": [
  {
   "cell_type": "code",
   "execution_count": 1,
   "metadata": {},
   "outputs": [],
   "source": [
    "# Notes: \"--\" and \"\" are both N/a, 0 is 0\n",
    "import pandas as pd\n",
    "import os"
   ]
  },
  {
   "cell_type": "code",
   "execution_count": 15,
   "metadata": {},
   "outputs": [],
   "source": [
    "countries = pd.read_excel(\"./countries.xlsx\")\n",
    "\n",
    "def getData(file):\n",
    "    data = pd.read_csv(file, skiprows=1)\n",
    "    \n",
    "    data[\"Country\"]=data[\"Country\"].apply(lambda x: x.strip()) #strip trailing spaces\n",
    "    data = data[data[\"Code\"].isin(countries[\"Code\"])] # check to see if it is in list\n",
    "    data.reset_index(drop=True,inplace=True)\n",
    "    \n",
    "    return data"
   ]
  },
  {
   "cell_type": "code",
   "execution_count": 16,
   "metadata": {
    "scrolled": false
   },
   "outputs": [
    {
     "name": "stdout",
     "output_type": "stream",
     "text": [
      "Emissions_Coal.csv\n",
      "Emissions_GHG_(fromCAIT).csv\n",
      "Emissions_Natural_Gas.csv\n",
      "Emissions_Petroleum_other.csv\n",
      "Emissions_Total.csv\n",
      "Energy_Consumption_per_Capita.csv\n",
      "Energy_consumption_per_GDP.csv\n",
      "Energy_use(kg-of-oil-equivalent-per-capita).csv\n",
      "Fossil_fuel_energy_consumption(%_of_total).csv\n",
      "GDP.csv\n",
      "Population.csv\n",
      "Renewable_energy_consumption(%_of_total_final_energy_consumption).csv\n",
      "Rents_Coal.csv\n",
      "Rents_NaturalGas.csv\n",
      "Rents_Oil.csv\n"
     ]
    }
   ],
   "source": [
    "df_list = []\n",
    "for filename in os.listdir(\"data_processed/\"):\n",
    "    print(filename)\n",
    "    path = \"data_processed/\" + filename\n",
    "    df_list.append(getData(path))"
   ]
  },
  {
   "cell_type": "code",
   "execution_count": 17,
   "metadata": {},
   "outputs": [
    {
     "name": "stdout",
     "output_type": "stream",
     "text": [
      "(167, 32)\n",
      "(167, 30)\n",
      "(167, 32)\n",
      "(167, 32)\n",
      "(167, 32)\n",
      "(167, 32)\n",
      "(167, 32)\n",
      "(167, 28)\n",
      "(167, 28)\n",
      "(167, 33)\n",
      "(167, 32)\n",
      "(167, 31)\n",
      "(167, 32)\n",
      "(167, 32)\n",
      "(167, 32)\n"
     ]
    }
   ],
   "source": [
    "for i in range(15):\n",
    "    print(df_list[i].shape)"
   ]
  },
  {
   "cell_type": "code",
   "execution_count": 18,
   "metadata": {},
   "outputs": [
    {
     "data": {
      "text/plain": [
       "Series([], Name: Code, dtype: object)"
      ]
     },
     "execution_count": 18,
     "metadata": {},
     "output_type": "execute_result"
    }
   ],
   "source": []
  },
  {
   "cell_type": "code",
   "execution_count": 10,
   "metadata": {},
   "outputs": [],
   "source": [
    "\n"
   ]
  },
  {
   "cell_type": "code",
   "execution_count": null,
   "metadata": {},
   "outputs": [],
   "source": []
  }
 ],
 "metadata": {
  "kernelspec": {
   "display_name": "Python 3",
   "language": "python",
   "name": "python3"
  },
  "language_info": {
   "codemirror_mode": {
    "name": "ipython",
    "version": 3
   },
   "file_extension": ".py",
   "mimetype": "text/x-python",
   "name": "python",
   "nbconvert_exporter": "python",
   "pygments_lexer": "ipython3",
   "version": "3.8.5"
  }
 },
 "nbformat": 4,
 "nbformat_minor": 4
}
