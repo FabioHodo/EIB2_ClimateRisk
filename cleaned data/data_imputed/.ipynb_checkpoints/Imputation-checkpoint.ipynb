{
 "cells": [
  {
   "cell_type": "code",
   "execution_count": 17,
   "metadata": {},
   "outputs": [],
   "source": [
    "# Notes: For Emissions: \"\" and -- means missing\n",
    "# For Energy_Use, \"\" is missing, For Energy_consumption -- means missing\n",
    "# For Fossil_fuel_Energy both 0 and \"\" mean missing, can actually omit this and use renewable_energy instead (too much missing data)\n",
    "#for GDP and Population -- means missing\n",
    "# For Renewable_energy_cons \"\" means missing\n",
    "# for Rents \"\" missing\n",
    "import pandas as pd\n",
    "import os\n",
    "import numpy as np\n",
    "import matplotlib.pyplot as plt\n",
    "\n",
    "import missingno as mno\n",
    "from sklearn.impute import KNNImputer\n",
    "from sklearn import linear_model\n",
    "from sklearn import metrics\n",
    "from sklearn.model_selection import train_test_split\n",
    "from sklearn.preprocessing import PolynomialFeatures\n"
   ]
  },
  {
   "cell_type": "code",
   "execution_count": 2,
   "metadata": {},
   "outputs": [],
   "source": [
    "# Load all data and keep only those whose ISO matches all the datasets\n",
    "countries = pd.read_excel(\"./countries.xlsx\")\n",
    "\n",
    "def getData(file):\n",
    "    data = pd.read_csv(file, skiprows=1)\n",
    "    \n",
    "    data[\"Country\"]=data[\"Country\"].apply(lambda x: x.strip()) #strip trailing spaces\n",
    "    data = data[data[\"Code\"].isin(countries[\"Code\"])] # check to see if it is in list\n",
    "    data.reset_index(drop=True,inplace=True)\n",
    "    \n",
    "    return data"
   ]
  },
  {
   "cell_type": "code",
   "execution_count": 355,
   "metadata": {
    "scrolled": true
   },
   "outputs": [
    {
     "name": "stdout",
     "output_type": "stream",
     "text": [
      "Missing values: 88 \t File name: Emissions_Coal.csv\n",
      "Missing values: 0 \t File name: Emissions_GHG_(fromCAIT).csv\n",
      "Missing values: 134 \t File name: Emissions_Natural_Gas.csv\n",
      "Missing values: 218 \t File name: Emissions_Petroleum_other.csv\n",
      "Missing values: 236 \t File name: Emissions_Total.csv\n",
      "Missing values: 296 \t File name: Energy_Consumption_per_Capita.csv\n",
      "Missing values: 296 \t File name: Energy_consumption_per_GDP.csv\n",
      "Missing values: 1097 \t File name: Energy_use(kg-of-oil-equivalent-per-capita).csv\n",
      "Missing values: 1134 \t File name: Fossil_fuel_energy_consumption(%_of_total).csv\n",
      "Missing values: 99 \t File name: GDP.csv\n",
      "Missing values: 89 \t File name: Population.csv\n",
      "Missing values: 36 \t File name: Renewable_energy_consumption(%_of_total_final_energy_consumption).csv\n",
      "Missing values: 140 \t File name: Rents_Coal.csv\n",
      "Missing values: 120 \t File name: Rents_NaturalGas.csv\n",
      "Missing values: 112 \t File name: Rents_Oil.csv\n"
     ]
    }
   ],
   "source": [
    "#Process all files and add them to a list of dataframes for easy manipulation\n",
    "\n",
    "df_list = []\n",
    "df_names = []\n",
    "for filename in os.listdir(\"data_processed/\"):\n",
    "    #print(filename)\n",
    "    path = \"data_processed/\" + filename\n",
    "    df_list.append(getData(path))\n",
    "    df_names.append(filename)\n",
    "\n",
    "for i in range(15):\n",
    "    \n",
    "    print( 'Missing values:', clean_df(df_list[i]).isnull().sum().sum(), '\\t File name:', df_names[i])\n",
    "\n",
    "\n",
    "#mno.matrix(df_list[8], figsize = (10, 3))"
   ]
  },
  {
   "cell_type": "markdown",
   "metadata": {},
   "source": [
    "### KNN imputation"
   ]
  },
  {
   "cell_type": "code",
   "execution_count": 4,
   "metadata": {},
   "outputs": [],
   "source": [
    "def KNNimpute(dataframe):\n",
    "    temp = dataframe\n",
    "    temp = temp.drop(columns=['Code','Country'])\n",
    "    \n",
    "    temp = temp.replace('', np.NaN)\n",
    "    temp = temp.replace('--', np.NaN)\n",
    "    temp = temp.transpose()\n",
    "    #impute\n",
    "    imputer = KNNImputer(n_neighbors = 3)\n",
    "    temp = pd.DataFrame(imputer.fit_transform(temp))\n",
    "    \n",
    "    #transpose back and add columns names and index back\n",
    "    temp = temp.transpose()\n",
    "    temp.insert(0,'c1',dataframe.Country)\n",
    "    temp.insert(1,'c2',dataframe.Code)\n",
    "    temp.columns = dataframe.columns\n",
    "    return temp"
   ]
  },
  {
   "cell_type": "code",
   "execution_count": 5,
   "metadata": {},
   "outputs": [],
   "source": [
    "#KNNimpute(df_list[0]).head(15)\n"
   ]
  },
  {
   "cell_type": "markdown",
   "metadata": {},
   "source": [
    "### Inter/Extra-polation method with added noise"
   ]
  },
  {
   "cell_type": "code",
   "execution_count": null,
   "metadata": {},
   "outputs": [],
   "source": [
    "# https://www.kaggle.com/shashankasubrahmanya/missing-data-imputation-using-regression"
   ]
  },
  {
   "cell_type": "code",
   "execution_count": 200,
   "metadata": {},
   "outputs": [],
   "source": [
    "def clean_df(temp):\n",
    "    temp = temp.drop(columns=['Country','Code'])\n",
    "    temp = temp.transpose()\n",
    "    temp = temp.replace('NaN', np.NaN)\n",
    "    temp = temp.replace('NA', np.NaN)\n",
    "    temp = temp.replace('', np.NaN)\n",
    "    temp = temp.replace('--', np.NaN)\n",
    "    return temp.astype(float)\n",
    "\n",
    "#randomly impute missing values by sampling from original \n",
    "np.random.seed(42)\n",
    "def random_imputation(df, df_imp, feature):\n",
    "    number_missing = df[feature].isnull().sum()\n",
    "    observed_values = df.loc[df[feature].notnull(), feature]\n",
    "    df_imp.loc[df[feature].isnull(), feature] = np.random.choice(observed_values, number_missing, replace = True)\n",
    "    \n",
    "    return df_imp[feature]"
   ]
  },
  {
   "cell_type": "markdown",
   "metadata": {},
   "source": [
    "## Linear Regression imputation and error estimation:"
   ]
  },
  {
   "cell_type": "code",
   "execution_count": 271,
   "metadata": {},
   "outputs": [],
   "source": [
    "#Simple Linear Regression for imputing missing data\n",
    "def LinReg_imp(dataframe):\n",
    "    df = clean_df(dataframe.copy())\n",
    "    \n",
    "    for feature in df.columns:\n",
    "        if df[feature].isnull().sum() == 0: # skip if nothing to impute\n",
    "            continue\n",
    "        if all(df[feature].isnull()) == 1: # break if all values are NA cannot impute\n",
    "            continue\n",
    "        #train on available data, then predict missing data\n",
    "        X = df[feature][df[feature].notnull()].index\n",
    "        X = np.array(X).reshape(-1,1)\n",
    "        y = df[feature][df[feature].notnull()]\n",
    "        X = X.astype(float)\n",
    "        y = y.astype(float)\n",
    "\n",
    "        model = linear_model.LinearRegression()\n",
    "        model.fit(X, y)\n",
    "\n",
    "        y_missing = df[feature][df[feature].isnull()].index\n",
    "        y_missing = np.array(y_missing).reshape(-1,1)\n",
    "        y_predicted = model.predict(y_missing)\n",
    "\n",
    "        #Standard Error of the regression estimates is equal to std() of the errors of each estimates\n",
    "        stdev = np.std(y)\n",
    "        df.loc[df[feature].isnull(),feature] = y_predicted + np.random.normal(0,1,  size = y_predicted.shape) * stdev\n",
    "\n",
    "    temp = df.transpose()\n",
    "    temp.reset_index(drop=True, inplace=True)\n",
    "    temp.insert(0,'c1',dataframe.Country)\n",
    "    temp.insert(1,'c2',dataframe.Code)\n",
    "    temp.columns = dataframe.columns\n",
    "\n",
    "    return temp\n"
   ]
  },
  {
   "cell_type": "code",
   "execution_count": 324,
   "metadata": {},
   "outputs": [],
   "source": [
    "#np.random.seed(10)\n",
    "def LinReg_err(dataframe):\n",
    "    df = clean_df(dataframe.copy())\n",
    "    total_error = []\n",
    "\n",
    "    for feature in df.columns:\n",
    "        if df[feature].isnull().sum() == 0: # skip if nothing to impute\n",
    "            continue\n",
    "        if all(df[feature].isnull()) == 1: # break if all values are NA cannot impute\n",
    "            continue\n",
    "        #train on available data, then predict missing data\n",
    "        \n",
    "        X = df[feature][df[feature].notnull()].index\n",
    "        X = np.array(X).reshape(-1,1)\n",
    "        y = df[feature][df[feature].notnull()]\n",
    "        X = X.astype(float)\n",
    "        y = y.astype(float)\n",
    "        X_train, X_test, y_train, y_test = train_test_split(X, y, test_size=0.2, random_state=42)\n",
    "        \n",
    "        model = linear_model.LinearRegression()\n",
    "        model.fit(X_train, y_train)\n",
    "\n",
    "        y_pred = model.predict(X_test)\n",
    "\n",
    "        #add std. dev as noise to predictions\n",
    "        stdev = np.std(y)\n",
    "        y_pred = np.abs(y_pred + np.random.normal(0,stdev,  size = y_pred.shape) * stdev)\n",
    "        \n",
    "        if all(y_test)==0:\n",
    "            continue\n",
    "            \n",
    "        error = np.abs((y_test - y_pred)/y_test)\n",
    "        \n",
    "        total_error.append(error.sum())\n",
    "    return np.sum(total_error),"
   ]
  },
  {
   "cell_type": "code",
   "execution_count": null,
   "metadata": {},
   "outputs": [],
   "source": []
  },
  {
   "cell_type": "code",
   "execution_count": 325,
   "metadata": {},
   "outputs": [
    {
     "data": {
      "text/plain": [
       "(8058.743857946368,)"
      ]
     },
     "execution_count": 325,
     "metadata": {},
     "output_type": "execute_result"
    }
   ],
   "source": []
  },
  {
   "cell_type": "markdown",
   "metadata": {},
   "source": [
    "## Polynomial Regression imputation and error estimation:"
   ]
  },
  {
   "cell_type": "code",
   "execution_count": 284,
   "metadata": {},
   "outputs": [],
   "source": [
    "# USing n-th degree polynomial regression\n",
    "def PolyReg_imp(dataframe, poly_degrees):\n",
    "    df = clean_df(dataframe.copy())\n",
    "\n",
    "    for feature in df.columns:\n",
    "        if df[feature].isnull().sum() == 0: # skip if nothing to impute\n",
    "            continue\n",
    "        if all(df[feature].isnull()) == 1: # break if all values are NA cannot impute\n",
    "            continue  \n",
    "        #train on available data, then predict missing data\n",
    "        X = df[feature][df[feature].notnull()].index\n",
    "        X = np.array(X).reshape(-1,1)\n",
    "        y = df[feature][df[feature].notnull()]\n",
    "\n",
    "        poly = PolynomialFeatures(degree = poly_degrees)\n",
    "        X_poly = poly.fit_transform(X)\n",
    "\n",
    "        poly.fit(X_poly, y)\n",
    "        lin2 = linear_model.LinearRegression()\n",
    "        lin2.fit(X_poly, y)\n",
    "\n",
    "\n",
    "        y_missing = df[feature][df[feature].isnull()].index\n",
    "        y_missing = np.array(y_missing).reshape(-1,1)\n",
    "\n",
    "        X_polytest = poly.fit_transform(y_missing)\n",
    "        y_pred = lin2.predict(X_polytest)\n",
    "        #Standard Error of the regression estimates is equal to std() of the errors of each estimates\n",
    "        stdev = np.std(y)\n",
    "        y_pred = np.abs(y_pred + np.random.normal(0,stdev,  size = y_pred.shape) * stdev)\n",
    "        df.loc[df[feature].isnull(),feature] = y_pred\n",
    "    \n",
    "    temp = df.transpose()\n",
    "    temp.reset_index(drop=True, inplace=True)\n",
    "    temp.insert(0,'c1',dataframe.Country)\n",
    "    temp.insert(1,'c2',dataframe.Code)\n",
    "    temp.columns = dataframe.columns\n",
    "\n",
    "    return temp\n"
   ]
  },
  {
   "cell_type": "code",
   "execution_count": 329,
   "metadata": {},
   "outputs": [],
   "source": [
    "#np.random.seed(10)\n",
    "def PolyReg_err(dataframe, poly_degrees):\n",
    "    df = clean_df(dataframe.copy())\n",
    "    total_error = []\n",
    "\n",
    "    for feature in df.columns:\n",
    "        if df[feature].isnull().sum() == 0: # skip if nothing to impute\n",
    "            continue\n",
    "        if all(df[feature].isnull()) == 1: # break if all values are NA cannot impute\n",
    "            continue\n",
    "            \n",
    "        #train on available data, then predict missing data\n",
    "        X = df[feature][df[feature].notnull()].index\n",
    "        X = np.array(X).reshape(-1,1)\n",
    "        y = df[feature][df[feature].notnull()]\n",
    "        X = X.astype(float)\n",
    "        y = y.astype(float)\n",
    "        \n",
    "        X_train, X_test, y_train, y_test = train_test_split(X, y, test_size=0.2, random_state=42)\n",
    "        \n",
    "        poly = PolynomialFeatures(degree = poly_degrees)\n",
    "        X_poly = poly.fit_transform(X_train)\n",
    "\n",
    "        poly.fit(X_poly, y_train)\n",
    "        lin2 = linear_model.LinearRegression()\n",
    "        lin2.fit(X_poly, y_train)\n",
    "\n",
    "        X_polytest = poly.fit_transform(X_test)\n",
    "        y_pred = lin2.predict(X_polytest)\n",
    "\n",
    "        #add std. dev as noise to predictions\n",
    "        stdev = np.std(y)\n",
    "        y_pred = np.abs(y_pred + np.random.normal(0,stdev,  size = y_pred.shape) * stdev)\n",
    "        \n",
    "        if all(y_test)==0:\n",
    "            continue\n",
    "        error = np.abs((y_test - y_pred)/y_test)\n",
    "        \n",
    "        total_error.append(error.sum())\n",
    "    return np.sum( total_error)"
   ]
  },
  {
   "cell_type": "code",
   "execution_count": 330,
   "metadata": {},
   "outputs": [],
   "source": [
    "## Graphing the errors"
   ]
  },
  {
   "cell_type": "code",
   "execution_count": 450,
   "metadata": {},
   "outputs": [],
   "source": [
    "df_err = pd.DataFrame(index=df_names, columns = ['LinReg', 'PolyReg2'])\n",
    "\n",
    "df_err['LinReg'] = [LinReg_err(df_list[i]) for i in range(len(df_list))]\n",
    "df_err['PolyReg2'] = [PolyReg_err(df_list[i], 2) for i in range(len(df_list))]\n",
    "df_err['PolyReg3'] = [PolyReg_err(df_list[i], 3) for i in range(len(df_list))]\n",
    "df_err['PolyReg3-nonoise'] = [PolyReg_errn(df_list[i], 3) for i in range(len(df_list))]\n",
    "\n",
    "df_err = df_err.drop(index=['Population.csv','GDP.csv'])\n",
    "\n"
   ]
  },
  {
   "cell_type": "code",
   "execution_count": 451,
   "metadata": {},
   "outputs": [
    {
     "data": {
      "text/plain": [
       "<matplotlib.legend.Legend at 0x1a24c233730>"
      ]
     },
     "execution_count": 451,
     "metadata": {},
     "output_type": "execute_result"
    },
    {
     "data": {
      "image/png": "[encoded data removed]",
      "text/plain": [
       "<Figure size 720x576 with 1 Axes>"
      ]
     },
     "metadata": {
      "needs_background": "light"
     },
     "output_type": "display_data"
    }
   ],
   "source": [
    "fig = plt.figure(figsize=(10, 8))\n",
    "[#plt.barh(df_err.index, df_err['LinReg'], alpha = 0.5,align='edge', label='LinReg'), \n",
    "plt.barh(df_err.index, df_err['PolyReg2'], alpha = 0.25, label='PolyReg2'), \n",
    "plt.barh(df_err.index, df_err['PolyReg3'], alpha = 0.25, label='PolyReg3')]\n",
    "plt.legend()"
   ]
  },
  {
   "cell_type": "code",
   "execution_count": 387,
   "metadata": {},
   "outputs": [
    {
     "data": {
      "text/plain": [
       "<matplotlib.legend.Legend at 0x1a249f9c0a0>"
      ]
     },
     "execution_count": 387,
     "metadata": {},
     "output_type": "execute_result"
    },
    {
     "data": {
      "image/png": "[encoded data removed]",
      "text/plain": [
       "<Figure size 720x576 with 1 Axes>"
      ]
     },
     "metadata": {
      "needs_background": "light"
     },
     "output_type": "display_data"
    }
   ],
   "source": [
    "fig = plt.figure(figsize=(10, 8))\n",
    "[plt.barh(df_err.index, df_err['LinReg'], alpha = 0.5, label='LinReg'), \n",
    "#plt.barh(df_err.index, df_err['PolyReg2'], alpha = 0.5, label='PolyReg2'), \n",
    "plt.barh(df_err.index, df_err['PolyReg3'], alpha = 0.5, label='PolyReg3', color = 'black')]\n",
    "plt.title('Mean Absolute Error Comparison')\n",
    "plt.legend()"
   ]
  },
  {
   "cell_type": "code",
   "execution_count": 379,
   "metadata": {},
   "outputs": [
    {
     "data": {
      "text/html": [
       "<div>\n",
       "<style scoped>\n",
       "    .dataframe tbody tr th:only-of-type {\n",
       "        vertical-align: middle;\n",
       "    }\n",
       "\n",
       "    .dataframe tbody tr th {\n",
       "        vertical-align: top;\n",
       "    }\n",
       "\n",
       "    .dataframe thead th {\n",
       "        text-align: right;\n",
       "    }\n",
       "</style>\n",
       "<table border=\"1\" class=\"dataframe\">\n",
       "  <thead>\n",
       "    <tr style=\"text-align: right;\">\n",
       "      <th></th>\n",
       "      <th>LinReg</th>\n",
       "      <th>PolyReg2</th>\n",
       "      <th>PolyReg3</th>\n",
       "      <th>PolyReg3-nonoise</th>\n",
       "    </tr>\n",
       "  </thead>\n",
       "  <tbody>\n",
       "    <tr>\n",
       "      <th>Emissions_Coal.csv</th>\n",
       "      <td>(296.9157938090562,)</td>\n",
       "      <td>233.603508</td>\n",
       "      <td>237.846754</td>\n",
       "      <td>32.202296</td>\n",
       "    </tr>\n",
       "    <tr>\n",
       "      <th>Emissions_GHG_(fromCAIT).csv</th>\n",
       "      <td>(0.0,)</td>\n",
       "      <td>0.000000</td>\n",
       "      <td>0.000000</td>\n",
       "      <td>0.000000</td>\n",
       "    </tr>\n",
       "    <tr>\n",
       "      <th>Emissions_Natural_Gas.csv</th>\n",
       "      <td>(3141.5272680724256,)</td>\n",
       "      <td>6903.579955</td>\n",
       "      <td>5113.598092</td>\n",
       "      <td>201.246413</td>\n",
       "    </tr>\n",
       "    <tr>\n",
       "      <th>Emissions_Petroleum_other.csv</th>\n",
       "      <td>(1727.882299334693,)</td>\n",
       "      <td>2390.819848</td>\n",
       "      <td>2102.118135</td>\n",
       "      <td>83.595802</td>\n",
       "    </tr>\n",
       "    <tr>\n",
       "      <th>Emissions_Total.csv</th>\n",
       "      <td>(12451.346508279566,)</td>\n",
       "      <td>7861.956344</td>\n",
       "      <td>10021.555903</td>\n",
       "      <td>85.722855</td>\n",
       "    </tr>\n",
       "    <tr>\n",
       "      <th>Energy_Consumption_per_Capita.csv</th>\n",
       "      <td>(2058.199594100415,)</td>\n",
       "      <td>2292.706099</td>\n",
       "      <td>2046.937245</td>\n",
       "      <td>74.151648</td>\n",
       "    </tr>\n",
       "    <tr>\n",
       "      <th>Energy_consumption_per_GDP.csv</th>\n",
       "      <td>(1201.9763825679954,)</td>\n",
       "      <td>750.940022</td>\n",
       "      <td>974.243447</td>\n",
       "      <td>82.986645</td>\n",
       "    </tr>\n",
       "    <tr>\n",
       "      <th>Energy_use(kg-of-oil-equivalent-per-capita).csv</th>\n",
       "      <td>(27727.86411184315,)</td>\n",
       "      <td>29082.871153</td>\n",
       "      <td>23443.436423</td>\n",
       "      <td>25.302821</td>\n",
       "    </tr>\n",
       "    <tr>\n",
       "      <th>Fossil_fuel_energy_consumption(%_of_total).csv</th>\n",
       "      <td>(206.9445711641092,)</td>\n",
       "      <td>252.945067</td>\n",
       "      <td>229.691340</td>\n",
       "      <td>20.256970</td>\n",
       "    </tr>\n",
       "    <tr>\n",
       "      <th>Renewable_energy_consumption(%_of_total_final_energy_consumption).csv</th>\n",
       "      <td>(8.248141305293203,)</td>\n",
       "      <td>7.680888</td>\n",
       "      <td>7.535356</td>\n",
       "      <td>1.278906</td>\n",
       "    </tr>\n",
       "    <tr>\n",
       "      <th>Rents_Coal.csv</th>\n",
       "      <td>(1025.554571489007,)</td>\n",
       "      <td>1153.699968</td>\n",
       "      <td>816.110138</td>\n",
       "      <td>260.255831</td>\n",
       "    </tr>\n",
       "    <tr>\n",
       "      <th>Rents_NaturalGas.csv</th>\n",
       "      <td>(1443.332537859143,)</td>\n",
       "      <td>55161.499568</td>\n",
       "      <td>31950.777388</td>\n",
       "      <td>2073.157238</td>\n",
       "    </tr>\n",
       "    <tr>\n",
       "      <th>Rents_Oil.csv</th>\n",
       "      <td>(23.622119877814654,)</td>\n",
       "      <td>42.488962</td>\n",
       "      <td>46.982700</td>\n",
       "      <td>25.303686</td>\n",
       "    </tr>\n",
       "  </tbody>\n",
       "</table>\n",
       "</div>"
      ],
      "text/plain": [
       "                                                                   LinReg  \\\n",
       "Emissions_Coal.csv                                   (296.9157938090562,)   \n",
       "Emissions_GHG_(fromCAIT).csv                                       (0.0,)   \n",
       "Emissions_Natural_Gas.csv                           (3141.5272680724256,)   \n",
       "Emissions_Petroleum_other.csv                        (1727.882299334693,)   \n",
       "Emissions_Total.csv                                 (12451.346508279566,)   \n",
       "Energy_Consumption_per_Capita.csv                    (2058.199594100415,)   \n",
       "Energy_consumption_per_GDP.csv                      (1201.9763825679954,)   \n",
       "Energy_use(kg-of-oil-equivalent-per-capita).csv      (27727.86411184315,)   \n",
       "Fossil_fuel_energy_consumption(%_of_total).csv       (206.9445711641092,)   \n",
       "Renewable_energy_consumption(%_of_total_final_e...   (8.248141305293203,)   \n",
       "Rents_Coal.csv                                       (1025.554571489007,)   \n",
       "Rents_NaturalGas.csv                                 (1443.332537859143,)   \n",
       "Rents_Oil.csv                                       (23.622119877814654,)   \n",
       "\n",
       "                                                        PolyReg2  \\\n",
       "Emissions_Coal.csv                                    233.603508   \n",
       "Emissions_GHG_(fromCAIT).csv                            0.000000   \n",
       "Emissions_Natural_Gas.csv                            6903.579955   \n",
       "Emissions_Petroleum_other.csv                        2390.819848   \n",
       "Emissions_Total.csv                                  7861.956344   \n",
       "Energy_Consumption_per_Capita.csv                    2292.706099   \n",
       "Energy_consumption_per_GDP.csv                        750.940022   \n",
       "Energy_use(kg-of-oil-equivalent-per-capita).csv     29082.871153   \n",
       "Fossil_fuel_energy_consumption(%_of_total).csv        252.945067   \n",
       "Renewable_energy_consumption(%_of_total_final_e...      7.680888   \n",
       "Rents_Coal.csv                                       1153.699968   \n",
       "Rents_NaturalGas.csv                                55161.499568   \n",
       "Rents_Oil.csv                                          42.488962   \n",
       "\n",
       "                                                        PolyReg3  \\\n",
       "Emissions_Coal.csv                                    237.846754   \n",
       "Emissions_GHG_(fromCAIT).csv                            0.000000   \n",
       "Emissions_Natural_Gas.csv                            5113.598092   \n",
       "Emissions_Petroleum_other.csv                        2102.118135   \n",
       "Emissions_Total.csv                                 10021.555903   \n",
       "Energy_Consumption_per_Capita.csv                    2046.937245   \n",
       "Energy_consumption_per_GDP.csv                        974.243447   \n",
       "Energy_use(kg-of-oil-equivalent-per-capita).csv     23443.436423   \n",
       "Fossil_fuel_energy_consumption(%_of_total).csv        229.691340   \n",
       "Renewable_energy_consumption(%_of_total_final_e...      7.535356   \n",
       "Rents_Coal.csv                                        816.110138   \n",
       "Rents_NaturalGas.csv                                31950.777388   \n",
       "Rents_Oil.csv                                          46.982700   \n",
       "\n",
       "                                                    PolyReg3-nonoise  \n",
       "Emissions_Coal.csv                                         32.202296  \n",
       "Emissions_GHG_(fromCAIT).csv                                0.000000  \n",
       "Emissions_Natural_Gas.csv                                 201.246413  \n",
       "Emissions_Petroleum_other.csv                              83.595802  \n",
       "Emissions_Total.csv                                        85.722855  \n",
       "Energy_Consumption_per_Capita.csv                          74.151648  \n",
       "Energy_consumption_per_GDP.csv                             82.986645  \n",
       "Energy_use(kg-of-oil-equivalent-per-capita).csv            25.302821  \n",
       "Fossil_fuel_energy_consumption(%_of_total).csv             20.256970  \n",
       "Renewable_energy_consumption(%_of_total_final_e...          1.278906  \n",
       "Rents_Coal.csv                                            260.255831  \n",
       "Rents_NaturalGas.csv                                     2073.157238  \n",
       "Rents_Oil.csv                                              25.303686  "
      ]
     },
     "execution_count": 379,
     "metadata": {},
     "output_type": "execute_result"
    }
   ],
   "source": [
    "df_err"
   ]
  },
  {
   "cell_type": "markdown",
   "metadata": {},
   "source": [
    "### Saving files"
   ]
  },
  {
   "cell_type": "code",
   "execution_count": 130,
   "metadata": {},
   "outputs": [],
   "source": [
    "# save csv in file\n",
    "path = r\"C:\\Users\\fabio\\Documents\\GitHub\\EIB2_ClimateRisk\\cleaned data\\data_imputed\\imputed_knn\"\n",
    "\n",
    "for i in range(len(df_list)):\n",
    "    KNNimpute(df_list[i]).to_csv(path +\"/\" + df_names[i])"
   ]
  },
  {
   "cell_type": "code",
   "execution_count": 445,
   "metadata": {},
   "outputs": [
    {
     "data": {
      "text/plain": [
       "<BarContainer object of 15 artists>"
      ]
     },
     "execution_count": 445,
     "metadata": {},
     "output_type": "execute_result"
    },
    {
     "data": {
      "image/png": "[encoded data removed]",
      "text/plain": [
       "<Figure size 432x288 with 1 Axes>"
      ]
     },
     "metadata": {
      "needs_background": "light"
     },
     "output_type": "display_data"
    }
   ],
   "source": [
    "df_missing_ct = pd.DataFrame(columns=df_names, index = df.columns)\n",
    "\n",
    "for i in range(len(df_list)):\n",
    "    count = 0\n",
    "    df = clean_df(df_list[i])\n",
    "    for j in df.columns:\n",
    "        if df[j].isnull().sum() >14:\n",
    "            #print('in df',df_names[i] ,'A country has: ',df[j].isnull().sum(), 'missing values')\n",
    "            count += 1\n",
    "    df_missing_ct[df_names[i]] = count\n",
    "df_missing_ct\n",
    "plt.barh(df_missing_ct.columns, df_missing_ct.max())"
   ]
  },
  {
   "cell_type": "code",
   "execution_count": 448,
   "metadata": {},
   "outputs": [
    {
     "name": "stderr",
     "output_type": "stream",
     "text": [
      "<ipython-input-448-4370f1683cd1>:12: UserWarning: FixedFormatter should only be used together with FixedLocator\n",
      "  ax.set_xticklabels(ax.get_xticks(), rotation = 45)\n"
     ]
    },
    {
     "data": {
      "text/plain": [
       "[Text(0, 0, '0'),\n",
       " Text(1, 0, '1'),\n",
       " Text(2, 0, '2'),\n",
       " Text(3, 0, '3'),\n",
       " Text(4, 0, '4'),\n",
       " Text(5, 0, '5'),\n",
       " Text(6, 0, '6'),\n",
       " Text(7, 0, '7'),\n",
       " Text(8, 0, '8'),\n",
       " Text(9, 0, '9'),\n",
       " Text(10, 0, '10'),\n",
       " Text(11, 0, '11'),\n",
       " Text(12, 0, '12'),\n",
       " Text(13, 0, '13'),\n",
       " Text(14, 0, '14'),\n",
       " Text(15, 0, '15'),\n",
       " Text(16, 0, '16'),\n",
       " Text(17, 0, '17'),\n",
       " Text(18, 0, '18'),\n",
       " Text(19, 0, '19'),\n",
       " Text(20, 0, '20'),\n",
       " Text(21, 0, '21'),\n",
       " Text(22, 0, '22'),\n",
       " Text(23, 0, '23'),\n",
       " Text(24, 0, '24'),\n",
       " Text(25, 0, '25'),\n",
       " Text(26, 0, '26'),\n",
       " Text(27, 0, '27'),\n",
       " Text(28, 0, '28'),\n",
       " Text(29, 0, '29')]"
      ]
     },
     "execution_count": 448,
     "metadata": {},
     "output_type": "execute_result"
    },
    {
     "data": {
      "image/png": "[encoded data removed]",
      "text/plain": [
       "<Figure size 432x288 with 1 Axes>"
      ]
     },
     "metadata": {
      "needs_background": "light"
     },
     "output_type": "display_data"
    }
   ],
   "source": [
    "df_missing = pd.DataFrame(columns=df_names)\n",
    "for i in range(len(df_list)):\n",
    "    df = clean_df(df_list[i]).transpose()\n",
    "    for j in df.columns:\n",
    "        if df[j].isnull().sum() >3:\n",
    "                #print('in df',df_names[i] ,'in year',j ,' has: ',df[j].isnull().sum(), 'missing values')\n",
    "                df_missing[df_names[i]] = df.isnull().sum()\n",
    "\n",
    "df_missing.transpose().sum().shape,df_missing.transpose().columns\n",
    "plt.bar(df_missing.transpose().columns, df_missing.transpose().sum())\n",
    "ax = plt.gca()\n",
    "ax.set_xticklabels(ax.get_xticks(), rotation = 45)"
   ]
  },
  {
   "cell_type": "code",
   "execution_count": null,
   "metadata": {},
   "outputs": [],
   "source": []
  }
 ],
 "metadata": {
  "kernelspec": {
   "display_name": "Python 3",
   "language": "python",
   "name": "python3"
  },
  "language_info": {
   "codemirror_mode": {
    "name": "ipython",
    "version": 3
   },
   "file_extension": ".py",
   "mimetype": "text/x-python",
   "name": "python",
   "nbconvert_exporter": "python",
   "pygments_lexer": "ipython3",
   "version": "3.8.5"
  }
 },
 "nbformat": 4,
 "nbformat_minor": 4
}
